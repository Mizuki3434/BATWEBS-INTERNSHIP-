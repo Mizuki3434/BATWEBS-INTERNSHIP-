{
 "cells": [
  {
   "cell_type": "code",
   "execution_count": 1,
   "metadata": {},
   "outputs": [],
   "source": [
    "# SUPERVISED LEARNING- \n",
    "# Basically Supervised Learning is the subset of Machine Learning, which\n",
    "# turns out to be popular in usecase of current tech world\n",
    "# It uses labeled data set of train algorithms to classify data or \n",
    "# predict the result with accuracy.\n",
    "\n",
    "\n",
    "# Also I finished watching the Linear Regression Videos in order to understand\n",
    "# basic concepts of it and how it functions.\n",
    "# So basically linear regression is a type of machine learning algorithm which\n",
    "# is oftern used in field of AI and ML\n",
    "\n",
    "\n",
    "\n",
    "\n"
   ]
  }
 ],
 "metadata": {
  "kernelspec": {
   "display_name": "Python 3",
   "language": "python",
   "name": "python3"
  },
  "language_info": {
   "codemirror_mode": {
    "name": "ipython",
    "version": 3
   },
   "file_extension": ".py",
   "mimetype": "text/x-python",
   "name": "python",
   "nbconvert_exporter": "python",
   "pygments_lexer": "ipython3",
   "version": "3.11.5"
  }
 },
 "nbformat": 4,
 "nbformat_minor": 2
}
